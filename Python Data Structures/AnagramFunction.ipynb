{
 "cells": [
  {
   "cell_type": "code",
   "execution_count": 1,
   "metadata": {
    "collapsed": true
   },
   "outputs": [],
   "source": [
    "\t\tdef anagram(s1,s2):\n",
    "\t\t    s1.replace(\" \",\"\").lower\n",
    "\t\t    s2.replace(\" \",\"\").lower\n",
    "\t\t    \n",
    "\t\t    if len(s1) != len(s2):\n",
    "\t\t        return False\n",
    "\t\t    \n",
    "\t\t    print(s1)\n",
    "\t\t    dictonary = {}    \n",
    "\t\t    for value in s1:\n",
    "\t\t        if value in dictonary:\n",
    "\t\t            dictonary[value] = dictonary[value] + 1\n",
    "\t\t        else:\n",
    "\t\t            dictonary[value] = 1\n",
    "\t\t    \n",
    "\t\t    for value in s2:\n",
    "\t\t        if value in dictonary:\n",
    "\t\t            dictonary[value] = dictonary[value] - 1\n",
    "\t\t        else:\n",
    "            dictonary[value] = 1           \n",
    "            \n",
    "            for k in dictonary:\n",
    "                if dictonary[k] >0:\n",
    "                    return False\n",
    "            \n",
    "            return True\n"
   ]
  },
  {
   "cell_type": "code",
   "execution_count": null,
   "metadata": {
    "collapsed": true
   },
   "outputs": [],
   "source": []
  }
 ],
 "metadata": {
  "anaconda-cloud": {},
  "kernelspec": {
   "display_name": "Python [py35]",
   "language": "python",
   "name": "Python [py35]"
  },
  "language_info": {
   "codemirror_mode": {
    "name": "ipython",
    "version": 3
   },
   "file_extension": ".py",
   "mimetype": "text/x-python",
   "name": "python",
   "nbconvert_exporter": "python",
   "pygments_lexer": "ipython3",
   "version": "3.5.2"
  }
 },
 "nbformat": 4,
 "nbformat_minor": 0
}
